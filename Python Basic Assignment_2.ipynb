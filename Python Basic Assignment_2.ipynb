{
 "cells": [
  {
   "cell_type": "markdown",
   "id": "bc094132",
   "metadata": {},
   "source": [
    "1.What are the two values of the Boolean data type? How do you write them?\n",
    "\n",
    "Ans: True and False are the two boolean values."
   ]
  },
  {
   "cell_type": "code",
   "execution_count": 1,
   "id": "3d80b983",
   "metadata": {},
   "outputs": [
    {
     "name": "stdout",
     "output_type": "stream",
     "text": [
      "True <class 'bool'>\n",
      "False <class 'bool'>\n"
     ]
    }
   ],
   "source": [
    "a = True\n",
    "b = False\n",
    "if a == True:\n",
    "    print(a,type(a))\n",
    "if b == False:\n",
    "    print(b,type(b))"
   ]
  },
  {
   "cell_type": "markdown",
   "id": "629a4a87",
   "metadata": {},
   "source": [
    "2. What are the three different types of Boolean operators?\n",
    "\n",
    "AND operator\n",
    "OR operator\n",
    "NOT operator"
   ]
  },
  {
   "cell_type": "code",
   "execution_count": 2,
   "id": "5fd44e90",
   "metadata": {
    "scrolled": false
   },
   "outputs": [
    {
     "name": "stdout",
     "output_type": "stream",
     "text": [
      "AND operator is evaluated\n",
      "OR operator is evaluated\n",
      "NOT operator is evaluated\n"
     ]
    }
   ],
   "source": [
    "if ((5 > 4) and (3 == 3)):\n",
    "    print(\"AND operator is evaluated\")\n",
    "if ((5 > 4) or (3 == 5)):\n",
    "    print(\"OR operator is evaluated\")\n",
    "if (not (5 > 4) == False):\n",
    "    print(\"NOT operator is evaluated\")"
   ]
  },
  {
   "cell_type": "code",
   "execution_count": null,
   "id": "c180c6ec",
   "metadata": {},
   "outputs": [],
   "source": [
    "3. Make a list of each Boolean operators truth tables (i.e. every possible combination of Boolean values for the operator and \n",
    "what it evaluate )."
   ]
  },
  {
   "cell_type": "code",
   "execution_count": 3,
   "id": "b6e75ba4",
   "metadata": {},
   "outputs": [
    {
     "name": "stdout",
     "output_type": "stream",
     "text": [
      "True and True : True\n",
      "True and False : False\n",
      "False and True : False\n",
      "False and False : False\n"
     ]
    }
   ],
   "source": [
    "for a in (True,False):\n",
    "    for b in (True,False):\n",
    "        c = a&b\n",
    "        print(a,\"and\",b,\":\",c)"
   ]
  },
  {
   "cell_type": "markdown",
   "id": "8ab61e14",
   "metadata": {},
   "source": [
    "4. What are the values of the following expressions?\n",
    "(5 > 4) and (3 == 5)      --> False: \"True (5>4) and False (3==5)\" evaluates & returns \"False\"\n",
    "not (5 > 4)               --> False: \"Not (5>4 is True)\" evaluates & returns \"False\"\n",
    "(5 > 4) or (3 == 5)       --> True: \"True (5>4) or False (3==5)\" evaluates & returns \"True\"\n",
    "not ((5 > 4) or (3 == 5)) --> False: \"Not (True (5>4) or False (3==5))\" evaluates & returns \"False\" \n",
    "(True and True) and (True == False)  --> False: \"(True and True is True) and (True == False is False)\" evaluates & returns \"False\"\n",
    "(not False) or (not True) --> False: \"(Not False is True) or (Not True is False)\" evaluates & returns \"True\""
   ]
  },
  {
   "cell_type": "markdown",
   "id": "855a07e3",
   "metadata": {},
   "source": [
    "5. What are the six comparison operators?\n",
    "\n",
    "Equal to (a == b)\n",
    "Not Equal to (a != b)\n",
    "Greater than (a > b)\n",
    "Less than (a < b)\n",
    "Greater than Equal to (a >= b) \n",
    "Less than Equal to (a <= b) "
   ]
  },
  {
   "cell_type": "code",
   "execution_count": null,
   "id": "15a5199f",
   "metadata": {},
   "outputs": [],
   "source": [
    "6. How do you tell the difference between the equal to and assignment operators?\n",
    "Describe a condition and when you would use one.\n",
    "\n",
    "==  is an comparison operator which compares left and right variables and returns true. ex. a == b\n",
    "=   is an assignment operator which assigns a value to a variable. ex. a = 10"
   ]
  },
  {
   "cell_type": "code",
   "execution_count": 4,
   "id": "6c77a0df",
   "metadata": {},
   "outputs": [
    {
     "name": "stdout",
     "output_type": "stream",
     "text": [
      "Comparison done. a and b are having equal values\n"
     ]
    }
   ],
   "source": [
    "a = 10   # assignment. Assign 10 to variable a\n",
    "b = 10\n",
    "if(a == b):  # equal to. compares a and b.\n",
    "    print(\"Comparison done. a and b are having equal values\")"
   ]
  },
  {
   "cell_type": "markdown",
   "id": "f4821f60",
   "metadata": {},
   "source": [
    "7. Identify the three blocks in this code:\n",
    "spam = 0\n",
    "if spam == 10:\n",
    "print('eggs')\n",
    "if spam > 5:\n",
    "print('bacon')\n",
    "else:\n",
    "print('ham')\n",
    "print('spam')\n",
    "print('spam')\n",
    "\n",
    "Ans: Above code doesnot indent properly. On proper indendation of the code, we have 3 blocks identified below."
   ]
  },
  {
   "cell_type": "code",
   "execution_count": 5,
   "id": "cbd3a6df",
   "metadata": {},
   "outputs": [
    {
     "name": "stdout",
     "output_type": "stream",
     "text": [
      "spam\n"
     ]
    }
   ],
   "source": [
    "spam = 0\n",
    "if spam == 10:\n",
    "    print('eggs')       # First block\n",
    "    if spam > 5:\n",
    "        print('bacon')  # Second block\n",
    "    else:\n",
    "        print('ham')    # Third block\n",
    "    print('spam')\n",
    "print('spam')"
   ]
  },
  {
   "cell_type": "markdown",
   "id": "5413b4f1",
   "metadata": {},
   "source": [
    "8. Write code that prints Hello if 1 is stored in spam, prints Howdy if 2 is stored in spam, and prints Greetings! \n",
    "if anything else is stored in spam,\n"
   ]
  },
  {
   "cell_type": "code",
   "execution_count": 6,
   "id": "6630ade4",
   "metadata": {},
   "outputs": [
    {
     "name": "stdout",
     "output_type": "stream",
     "text": [
      "Get the value for spam:1\n",
      "Hello\n"
     ]
    }
   ],
   "source": [
    "spam = int(input(\"Get the value for spam:\"))\n",
    "if(spam == 1):\n",
    "    print(\"Hello\")\n",
    "elif(spam == 2):\n",
    "    print(\"Howdy\")\n",
    "else:\n",
    "    print(\"Greetings!\")"
   ]
  },
  {
   "cell_type": "markdown",
   "id": "e83a2f4e",
   "metadata": {},
   "source": [
    "9.If your programme is stuck in an endless loop, what keys you’ll press?\n",
    "\n",
    "Ans: Ctrl+C"
   ]
  },
  {
   "cell_type": "markdown",
   "id": "df0df84d",
   "metadata": {},
   "source": [
    "10. How can you tell the difference between break and continue?\n",
    "\n",
    "break - It exit from the current loop\n",
    "continue - It resumes the program control to next iteration in the loop"
   ]
  },
  {
   "cell_type": "code",
   "execution_count": null,
   "id": "3749b986",
   "metadata": {},
   "outputs": [],
   "source": [
    "11. In a for loop, what is the difference between range(10), range(0, 10), and range(0, 10, 1)?\n",
    "\n",
    "All 3 are same. representaion differs.\n",
    "range(10) - it includes 10 numeric values from 0 to 9 (not 10)\n",
    "range(0,10) - it includes 10 numeric values starting from 0 to 9 (not 10)\n",
    "range(0,10,1) - it includes 10 numeric values starting from 0 to 9 (not 10) and increment each number by 1\n"
   ]
  },
  {
   "cell_type": "code",
   "execution_count": 7,
   "id": "0801fa8f",
   "metadata": {},
   "outputs": [
    {
     "name": "stdout",
     "output_type": "stream",
     "text": [
      "0\n",
      "1\n",
      "2\n",
      "3\n",
      "4\n",
      "5\n",
      "6\n",
      "7\n",
      "8\n",
      "9\n"
     ]
    }
   ],
   "source": [
    "for i in range(10):\n",
    "    print(i)"
   ]
  },
  {
   "cell_type": "code",
   "execution_count": 8,
   "id": "998e80e5",
   "metadata": {},
   "outputs": [
    {
     "name": "stdout",
     "output_type": "stream",
     "text": [
      "0\n",
      "1\n",
      "2\n",
      "3\n",
      "4\n",
      "5\n",
      "6\n",
      "7\n",
      "8\n",
      "9\n"
     ]
    }
   ],
   "source": [
    "for i in range(0,10):\n",
    "    print(i)"
   ]
  },
  {
   "cell_type": "code",
   "execution_count": 9,
   "id": "5b93110f",
   "metadata": {},
   "outputs": [
    {
     "name": "stdout",
     "output_type": "stream",
     "text": [
      "0\n",
      "1\n",
      "2\n",
      "3\n",
      "4\n",
      "5\n",
      "6\n",
      "7\n",
      "8\n",
      "9\n"
     ]
    }
   ],
   "source": [
    "for i in range(0,10,1):\n",
    "    print(i)"
   ]
  },
  {
   "cell_type": "markdown",
   "id": "86b705cd",
   "metadata": {},
   "source": [
    "12. Write a short program that prints the numbers 1 to 10 using a for loop. \n",
    "Then write an equivalent program that prints the numbers 1 to 10 using a while loop."
   ]
  },
  {
   "cell_type": "code",
   "execution_count": 10,
   "id": "cf51ec87",
   "metadata": {},
   "outputs": [
    {
     "name": "stdout",
     "output_type": "stream",
     "text": [
      "1\n",
      "2\n",
      "3\n",
      "4\n",
      "5\n",
      "6\n",
      "7\n",
      "8\n",
      "9\n",
      "10\n"
     ]
    }
   ],
   "source": [
    "for i in range(1,11):\n",
    "    print(i)"
   ]
  },
  {
   "cell_type": "code",
   "execution_count": 11,
   "id": "2adc7b56",
   "metadata": {},
   "outputs": [
    {
     "name": "stdout",
     "output_type": "stream",
     "text": [
      "1\n",
      "2\n",
      "3\n",
      "4\n",
      "5\n",
      "6\n",
      "7\n",
      "8\n",
      "9\n",
      "10\n"
     ]
    }
   ],
   "source": [
    "i = 1\n",
    "while i <= 10:\n",
    "    print(i)\n",
    "    i += 1"
   ]
  },
  {
   "cell_type": "markdown",
   "id": "6c22f98f",
   "metadata": {},
   "source": [
    "13. If you had a function named bacon() inside a module named spam, how would you call it after importing spam?\n",
    "\n",
    "import spam as sp\n",
    "sp.bacon()"
   ]
  }
 ],
 "metadata": {
  "kernelspec": {
   "display_name": "Python 3 (ipykernel)",
   "language": "python",
   "name": "python3"
  },
  "language_info": {
   "codemirror_mode": {
    "name": "ipython",
    "version": 3
   },
   "file_extension": ".py",
   "mimetype": "text/x-python",
   "name": "python",
   "nbconvert_exporter": "python",
   "pygments_lexer": "ipython3",
   "version": "3.9.7"
  }
 },
 "nbformat": 4,
 "nbformat_minor": 5
}
