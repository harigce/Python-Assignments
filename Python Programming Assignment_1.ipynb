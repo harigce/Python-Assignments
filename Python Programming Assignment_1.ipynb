{
 "cells": [
  {
   "cell_type": "code",
   "execution_count": 31,
   "id": "3346e51a",
   "metadata": {},
   "outputs": [
    {
     "name": "stdout",
     "output_type": "stream",
     "text": [
      "hello Python\n"
     ]
    }
   ],
   "source": [
    "# 1. Write a Python program to print \"Hello Python\"?\n",
    "\n",
    "print(\"hello Python\")"
   ]
  },
  {
   "cell_type": "code",
   "execution_count": 32,
   "id": "3d5b2786",
   "metadata": {},
   "outputs": [
    {
     "name": "stdout",
     "output_type": "stream",
     "text": [
      "Enter first number: 100\n",
      "Enter second number: 25\n",
      "\n",
      "addition of 2 given numbers:  125\n",
      "\n",
      "division of 2 given numbers:  4.0\n"
     ]
    }
   ],
   "source": [
    "# 2. Write a Python program to do arithmetical operations addition and division.?\n",
    "\n",
    "def arithmetical_operation(a,b):\n",
    "    c = int(a)+int(b)\n",
    "    print(\"\\naddition of 2 given numbers: \",c)\n",
    "    d=int(a)/int(b)\n",
    "    print(\"\\ndivision of 2 given numbers: \",d)\n",
    "    \n",
    "a = input('Enter first number: ')  \n",
    "b = input('Enter second number: ')  \n",
    "arithmetical_operation(a,b)"
   ]
  },
  {
   "cell_type": "code",
   "execution_count": 33,
   "id": "b6f67276",
   "metadata": {},
   "outputs": [
    {
     "name": "stdout",
     "output_type": "stream",
     "text": [
      "Enter First side of Triangle: 10\n",
      "Enter Second side of Triangle: 12\n",
      "Enter Third side of Triangle: 9\n",
      " The Area of a Triangle is 44.04\n"
     ]
    }
   ],
   "source": [
    "# 3. Write a Python program to find the area of a triangle?\n",
    "\n",
    "a = float(input('Enter First side of Triangle: '))\n",
    "b = float(input('Enter Second side of Triangle: '))\n",
    "c = float(input('Enter Third side of Triangle: '))\n",
    "s = (a + b + c) / 2\n",
    "# calculate the area\n",
    "area = (s*(s-a)*(s-b)*(s-c)) ** 0.5\n",
    "print(\" The Area of a Triangle is %0.2f\" % area)"
   ]
  },
  {
   "cell_type": "code",
   "execution_count": 40,
   "id": "07a912f9",
   "metadata": {},
   "outputs": [
    {
     "name": "stdout",
     "output_type": "stream",
     "text": [
      "Enter value of a: 10\n",
      "Enter value of b: 5\n",
      "The value of a after swapping: 5\n",
      "The value of b after swapping: 10\n"
     ]
    }
   ],
   "source": [
    "# 4.Write a Python program to swap two variables?\n",
    "\n",
    "a = input('Enter value of a: ')\n",
    "b = input('Enter value of b: ')\n",
    "\n",
    "c = a\n",
    "a = b\n",
    "b = c\n",
    "\n",
    "print('The value of a after swapping: {}'.format(a))\n",
    "print('The value of b after swapping: {}'.format(b))"
   ]
  },
  {
   "cell_type": "code",
   "execution_count": 55,
   "id": "b2ccea44",
   "metadata": {},
   "outputs": [
    {
     "data": {
      "text/plain": [
       "28"
      ]
     },
     "execution_count": 55,
     "metadata": {},
     "output_type": "execute_result"
    }
   ],
   "source": [
    "# 5. Write a Python program to generate a random number?\n",
    "import numpy as np\n",
    "np.random.randint(1,100)"
   ]
  }
 ],
 "metadata": {
  "kernelspec": {
   "display_name": "Python 3 (ipykernel)",
   "language": "python",
   "name": "python3"
  },
  "language_info": {
   "codemirror_mode": {
    "name": "ipython",
    "version": 3
   },
   "file_extension": ".py",
   "mimetype": "text/x-python",
   "name": "python",
   "nbconvert_exporter": "python",
   "pygments_lexer": "ipython3",
   "version": "3.9.7"
  }
 },
 "nbformat": 4,
 "nbformat_minor": 5
}
