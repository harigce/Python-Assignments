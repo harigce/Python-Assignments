{
 "cells": [
  {
   "cell_type": "markdown",
   "id": "c3d399f5",
   "metadata": {},
   "source": [
    "# Python Basic Assignment 1"
   ]
  },
  {
   "cell_type": "raw",
   "id": "a17925a3",
   "metadata": {},
   "source": [
    "# 1. In the below elements which of them are values or an expression? \n",
    "eg:- values can be integer or string and expressions will be mathematical operators.\n",
    "\n",
    "*        --> Expression (Mathematical Operator)\n",
    "'hello'  --> Value (String)\n",
    "-87.8    --> Value (Integer Negative Number)\n",
    "-        --> Expression (Mathematical Operator)\n",
    "/        --> Expression (Mathematical Operator)\n",
    "+        --> Expression (Mathematical Operator)\n",
    "6        --> Value (Integer Positive Number)"
   ]
  },
  {
   "cell_type": "raw",
   "id": "af516ff0",
   "metadata": {},
   "source": [
    "2. What is the difference between string and variable?\n",
    "\n",
    "String: It is a kind of Variable (text) which is enclosed in quotes. It is immutable and cannot be used for calculation.\n",
    "X = '5'\n",
    "\n",
    "Variable: It is an named identifier and can be assigned of any datatype. ex. Int, Boolean, FLoat, even string. It can be manipulated and used for calculation.\n",
    "X = 5"
   ]
  },
  {
   "cell_type": "raw",
   "id": "e93a6f8e",
   "metadata": {},
   "source": [
    "3. Describe three different data types.\n",
    "\n",
    "Numeric Datatypes - Integer (Represented by int. It holds positive and negative whole numbers), Float (Represented by float. It holds real number with decimal digits), Complex (Represented by complex. Holds real and imaginary parts)\n",
    "\n",
    "Dictionary - Key-Value pair. Stores unordered collection of data.\n",
    "\n",
    "Boolean Datatypes - Built in datatype which holds only True or False value."
   ]
  },
  {
   "cell_type": "code",
   "execution_count": 31,
   "id": "b631fbdb",
   "metadata": {},
   "outputs": [
    {
     "name": "stdout",
     "output_type": "stream",
     "text": [
      "Type of a:  <class 'int'>\n",
      "Type of b:  <class 'float'>\n",
      "Type of c:  <class 'complex'>\n"
     ]
    }
   ],
   "source": [
    "#Numeric Datatypes - Integer, Float, Complex\n",
    "\n",
    "a = 10\n",
    "print(\"Type of a: \", type(a))\n",
    "  \n",
    "b = 3.14\n",
    "print(\"Type of b: \", type(b))\n",
    "  \n",
    "c = 15 + 5j\n",
    "print(\"Type of c: \", type(c))"
   ]
  },
  {
   "cell_type": "code",
   "execution_count": 32,
   "id": "b32232ed",
   "metadata": {},
   "outputs": [
    {
     "name": "stdout",
     "output_type": "stream",
     "text": [
      "{1: 'Python', 2: 'Stats', 3: 'Machine Learning'}\n"
     ]
    }
   ],
   "source": [
    "#Dictionary\n",
    "\n",
    "Dict = {1: 'Python', 2: 'Stats', 3: 'Machine Learning'}  \n",
    "print(Dict) "
   ]
  },
  {
   "cell_type": "code",
   "execution_count": 33,
   "id": "0641633e",
   "metadata": {},
   "outputs": [
    {
     "name": "stdout",
     "output_type": "stream",
     "text": [
      "True False\n"
     ]
    }
   ],
   "source": [
    "#Boolean\n",
    "\n",
    "x = True\n",
    "y =  False\n",
    "print(x,y)"
   ]
  },
  {
   "cell_type": "raw",
   "id": "a98c18ca",
   "metadata": {},
   "source": [
    "4. What is an expression made up of? What do all expressions do?\n",
    "\n",
    "Expression - Its an combination of variables, constants, operands. It is used for evaluation and provides results.\n",
    "\n",
    "ex. add = x + y   ---> This is an arithmetic expression which adds two numbers and provides results."
   ]
  },
  {
   "cell_type": "raw",
   "id": "badf7300",
   "metadata": {},
   "source": [
    "5. This assignment statements, like spam = 10. What is the difference between an expression and a statement?\n",
    "\n",
    "spam = 10. This is an assignment statement. It assigns value 10 to the variable.\n",
    "\n",
    "Expression return value and statements does not."
   ]
  },
  {
   "cell_type": "code",
   "execution_count": 34,
   "id": "96a3fbb4",
   "metadata": {},
   "outputs": [
    {
     "name": "stdout",
     "output_type": "stream",
     "text": [
      "Expression\n"
     ]
    }
   ],
   "source": [
    "# Expression. \n",
    "print(\"Expression\")\n",
    "\n",
    "# Statement\n",
    "\n",
    "X=10"
   ]
  },
  {
   "cell_type": "raw",
   "id": "06efa79c",
   "metadata": {},
   "source": [
    "6. After running the following code, what does the variable bacon contain?  \n",
    "bacon = 22\n",
    "bacon + 1\n",
    "\n",
    "Ans: final code will provide 23, but bacon holds still 22"
   ]
  },
  {
   "cell_type": "code",
   "execution_count": 38,
   "id": "c8e6d0db",
   "metadata": {},
   "outputs": [
    {
     "name": "stdout",
     "output_type": "stream",
     "text": [
      "22\n"
     ]
    }
   ],
   "source": [
    "print(bacon)"
   ]
  },
  {
   "cell_type": "raw",
   "id": "60a84bc0",
   "metadata": {},
   "source": [
    "7. What should the values of the following two terms be?  \n",
    "\n",
    "Ans: Both results same values."
   ]
  },
  {
   "cell_type": "code",
   "execution_count": 39,
   "id": "c303f635",
   "metadata": {},
   "outputs": [
    {
     "data": {
      "text/plain": [
       "'spamspamspam'"
      ]
     },
     "execution_count": 39,
     "metadata": {},
     "output_type": "execute_result"
    }
   ],
   "source": [
    "'spam' + 'spamspam'"
   ]
  },
  {
   "cell_type": "code",
   "execution_count": 40,
   "id": "06bded65",
   "metadata": {},
   "outputs": [
    {
     "data": {
      "text/plain": [
       "'spamspamspam'"
      ]
     },
     "execution_count": 40,
     "metadata": {},
     "output_type": "execute_result"
    }
   ],
   "source": [
    "'spam' * 3"
   ]
  },
  {
   "cell_type": "raw",
   "id": "32aa64bf",
   "metadata": {},
   "source": [
    "8. Why is eggs a valid variable name while 100 is invalid?\n",
    "\n",
    "Ans:\n",
    "eggs are valid because - A variable name must start with a letter or underscore character.\n",
    "100 is invalid becuase - A variable name cannot start with a number."
   ]
  },
  {
   "cell_type": "raw",
   "id": "f6be284e",
   "metadata": {},
   "source": [
    "9. What three functions can be used to get the integer, floating-point number, or string version of a value?\n",
    "\n",
    "Ans: str(), int(), float()"
   ]
  },
  {
   "cell_type": "code",
   "execution_count": 41,
   "id": "0188c1d0",
   "metadata": {},
   "outputs": [
    {
     "data": {
      "text/plain": [
       "('100', 100, 100.0)"
      ]
     },
     "execution_count": 41,
     "metadata": {},
     "output_type": "execute_result"
    }
   ],
   "source": [
    "a = 100\n",
    "str(a), int(a), float(a)"
   ]
  },
  {
   "cell_type": "raw",
   "id": "1e054ee5",
   "metadata": {},
   "source": [
    "10. Why does this expression cause an error? How can you fix it?\n",
    "'I have eaten ' + 99 + ' burritos.'\n",
    "\n",
    "Ans: 99 is an integer and it cannot be concatenated with strings\n",
    "Fix: We have to do typecasting and then concatenate."
   ]
  },
  {
   "cell_type": "code",
   "execution_count": 42,
   "id": "3264d2dc",
   "metadata": {},
   "outputs": [
    {
     "data": {
      "text/plain": [
       "'I have eaten 99 burritos.'"
      ]
     },
     "execution_count": 42,
     "metadata": {},
     "output_type": "execute_result"
    }
   ],
   "source": [
    "'I have eaten ' + str(99) + ' burritos.'"
   ]
  }
 ],
 "metadata": {
  "kernelspec": {
   "display_name": "Python 3 (ipykernel)",
   "language": "python",
   "name": "python3"
  },
  "language_info": {
   "codemirror_mode": {
    "name": "ipython",
    "version": 3
   },
   "file_extension": ".py",
   "mimetype": "text/x-python",
   "name": "python",
   "nbconvert_exporter": "python",
   "pygments_lexer": "ipython3",
   "version": "3.9.7"
  }
 },
 "nbformat": 4,
 "nbformat_minor": 5
}
